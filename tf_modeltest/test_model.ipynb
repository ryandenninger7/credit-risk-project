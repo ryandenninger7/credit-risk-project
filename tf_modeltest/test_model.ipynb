{
 "cells": [
  {
   "cell_type": "markdown",
   "metadata": {},
   "source": [
    "# Test how to make predictions using saved tfmodel\n"
   ]
  },
  {
   "cell_type": "code",
   "execution_count": 1,
   "metadata": {},
   "outputs": [],
   "source": [
    "import tensorflow as tf\n",
    "from sklearn.preprocessing import StandardScaler, OneHotEncoder\n",
    "import joblib\n",
    "from joblib import dump, load"
   ]
  },
  {
   "cell_type": "code",
   "execution_count": 2,
   "metadata": {},
   "outputs": [],
   "source": [
    "encoder = joblib.load('../Resources/encoder.joblib')\n",
    "scaler = joblib.load('../Resources/scaler.joblib')"
   ]
  },
  {
   "cell_type": "code",
   "execution_count": 3,
   "metadata": {},
   "outputs": [],
   "source": [
    "file = (\"../Resources/tensorflowmodel.keras\")\n",
    "model = tf.keras.models.load_model(file)"
   ]
  },
  {
   "cell_type": "code",
   "execution_count": 4,
   "metadata": {},
   "outputs": [],
   "source": [
    "import pandas as pd"
   ]
  },
  {
   "cell_type": "code",
   "execution_count": 5,
   "metadata": {},
   "outputs": [
    {
     "data": {
      "text/html": [
       "<div>\n",
       "<style scoped>\n",
       "    .dataframe tbody tr th:only-of-type {\n",
       "        vertical-align: middle;\n",
       "    }\n",
       "\n",
       "    .dataframe tbody tr th {\n",
       "        vertical-align: top;\n",
       "    }\n",
       "\n",
       "    .dataframe thead th {\n",
       "        text-align: right;\n",
       "    }\n",
       "</style>\n",
       "<table border=\"1\" class=\"dataframe\">\n",
       "  <thead>\n",
       "    <tr style=\"text-align: right;\">\n",
       "      <th></th>\n",
       "      <th>person_age</th>\n",
       "      <th>person_income</th>\n",
       "      <th>person_emp_length</th>\n",
       "      <th>loan_amnt</th>\n",
       "      <th>loan_int_rate</th>\n",
       "      <th>loan_percent_income</th>\n",
       "      <th>cb_person_cred_hist_length</th>\n",
       "      <th>person_home_ownership_MORTGAGE</th>\n",
       "      <th>person_home_ownership_OTHER</th>\n",
       "      <th>person_home_ownership_OWN</th>\n",
       "      <th>person_home_ownership_RENT</th>\n",
       "      <th>loan_intent_DEBTCONSOLIDATION</th>\n",
       "      <th>loan_intent_EDUCATION</th>\n",
       "      <th>loan_intent_HOMEIMPROVEMENT</th>\n",
       "      <th>loan_intent_MEDICAL</th>\n",
       "      <th>loan_intent_PERSONAL</th>\n",
       "      <th>loan_intent_VENTURE</th>\n",
       "      <th>loan_grade_A</th>\n",
       "      <th>loan_grade_B</th>\n",
       "      <th>loan_grade_C</th>\n",
       "      <th>loan_grade_D</th>\n",
       "      <th>loan_grade_E</th>\n",
       "      <th>loan_grade_F</th>\n",
       "      <th>loan_grade_G</th>\n",
       "      <th>cb_person_default_on_file_N</th>\n",
       "      <th>cb_person_default_on_file_Y</th>\n",
       "    </tr>\n",
       "  </thead>\n",
       "  <tbody>\n",
       "    <tr>\n",
       "      <th>0</th>\n",
       "      <td>21</td>\n",
       "      <td>9600</td>\n",
       "      <td>1</td>\n",
       "      <td>9600</td>\n",
       "      <td>12.87</td>\n",
       "      <td>1</td>\n",
       "      <td>1</td>\n",
       "      <td>1</td>\n",
       "      <td>0</td>\n",
       "      <td>0</td>\n",
       "      <td>0</td>\n",
       "      <td>0</td>\n",
       "      <td>0</td>\n",
       "      <td>0</td>\n",
       "      <td>1</td>\n",
       "      <td>0</td>\n",
       "      <td>0</td>\n",
       "      <td>0</td>\n",
       "      <td>0</td>\n",
       "      <td>1</td>\n",
       "      <td>0</td>\n",
       "      <td>0</td>\n",
       "      <td>0</td>\n",
       "      <td>0</td>\n",
       "      <td>1</td>\n",
       "      <td>0</td>\n",
       "    </tr>\n",
       "  </tbody>\n",
       "</table>\n",
       "</div>"
      ],
      "text/plain": [
       "   person_age  person_income  person_emp_length  loan_amnt  loan_int_rate  \\\n",
       "0          21           9600                  1       9600          12.87   \n",
       "\n",
       "   loan_percent_income  cb_person_cred_hist_length  \\\n",
       "0                    1                           1   \n",
       "\n",
       "   person_home_ownership_MORTGAGE  person_home_ownership_OTHER  \\\n",
       "0                               1                            0   \n",
       "\n",
       "   person_home_ownership_OWN  person_home_ownership_RENT  \\\n",
       "0                          0                           0   \n",
       "\n",
       "   loan_intent_DEBTCONSOLIDATION  loan_intent_EDUCATION  \\\n",
       "0                              0                      0   \n",
       "\n",
       "   loan_intent_HOMEIMPROVEMENT  loan_intent_MEDICAL  loan_intent_PERSONAL  \\\n",
       "0                            0                    1                     0   \n",
       "\n",
       "   loan_intent_VENTURE  loan_grade_A  loan_grade_B  loan_grade_C  \\\n",
       "0                    0             0             0             1   \n",
       "\n",
       "   loan_grade_D  loan_grade_E  loan_grade_F  loan_grade_G  \\\n",
       "0             0             0             0             0   \n",
       "\n",
       "   cb_person_default_on_file_N  cb_person_default_on_file_Y  \n",
       "0                            1                            0  "
      ]
     },
     "execution_count": 5,
     "metadata": {},
     "output_type": "execute_result"
    }
   ],
   "source": [
    "# Define the new data\n",
    "new_data = {'person_age': 21, 'person_income': 9600, 'person_home_ownership': 'MORTGAGE', 'person_emp_length': 1, 'loan_intent': 'MEDICAL', 'loan_grade': 'C', 'loan_amnt': 9600, 'loan_int_rate': 12.87, 'loan_percent_income': 1, 'cb_person_default_on_file': 'N', 'cb_person_cred_hist_length': 1}\n",
    "\n",
    "# Convert to DataFrame\n",
    "new_df = pd.DataFrame([new_data])\n",
    "\n",
    "# Convert categorical variables to one-hot encoding\n",
    "categorical_columns = ['person_home_ownership', 'loan_intent', 'loan_grade', 'cb_person_default_on_file']\n",
    "new_df = pd.get_dummies(new_df, columns=categorical_columns)\n",
    "\n",
    "# Ensure all columns present in the training data are in the new data\n",
    "training_categorical_columns = ['person_home_ownership_MORTGAGE', 'person_home_ownership_OTHER', \n",
    "                                 'person_home_ownership_OWN', 'person_home_ownership_RENT', \n",
    "                                 'loan_intent_DEBTCONSOLIDATION', 'loan_intent_EDUCATION', \n",
    "                                 'loan_intent_HOMEIMPROVEMENT', 'loan_intent_MEDICAL', \n",
    "                                 'loan_intent_PERSONAL', 'loan_intent_VENTURE', 'loan_grade_A', \n",
    "                                 'loan_grade_B', 'loan_grade_C', 'loan_grade_D', 'loan_grade_E', \n",
    "                                 'loan_grade_F', 'loan_grade_G', 'cb_person_default_on_file_N', \n",
    "                                 'cb_person_default_on_file_Y']\n",
    "\n",
    "missing_cols = set(training_categorical_columns).difference(new_df.columns)\n",
    "for col in missing_cols:\n",
    "    new_df[col] = 0\n",
    "\n",
    "# Reorder the columns to match the order in the training data\n",
    "new_df = new_df[['person_age', 'person_income', 'person_emp_length', \n",
    "                                                'loan_amnt', 'loan_int_rate','loan_percent_income', 'cb_person_cred_hist_length'] + training_categorical_columns  ]\n",
    "\n",
    "pd.set_option('display.max_columns', None)\n",
    "\n",
    "# Now new_df contains the preprocessed data ready for prediction\n",
    "new_df"
   ]
  },
  {
   "cell_type": "code",
   "execution_count": 6,
   "metadata": {},
   "outputs": [],
   "source": [
    "scaled_data = scaler.fit_transform(new_df)"
   ]
  },
  {
   "cell_type": "code",
   "execution_count": 7,
   "metadata": {},
   "outputs": [
    {
     "name": "stdout",
     "output_type": "stream",
     "text": [
      "1/1 [==============================] - 0s 38ms/step\n"
     ]
    },
    {
     "name": "stderr",
     "output_type": "stream",
     "text": [
      "2024-03-21 16:15:33.559651: W tensorflow/tsl/platform/profile_utils/cpu_utils.cc:128] Failed to get CPU frequency: 0 Hz\n"
     ]
    }
   ],
   "source": [
    "predictions = model.predict(scaled_data)"
   ]
  },
  {
   "cell_type": "code",
   "execution_count": 8,
   "metadata": {},
   "outputs": [
    {
     "name": "stdout",
     "output_type": "stream",
     "text": [
      "Predictions: 0\n"
     ]
    }
   ],
   "source": [
    "# Assuming it's a binary classification, you might want to threshold probabilities to get binary predictions\n",
    "binary_predictions = (predictions > 0.5).astype(int)\n",
    "\n",
    "# Print the predictions\n",
    "print(\"Predictions:\", binary_predictions[0][0])"
   ]
  },
  {
   "cell_type": "markdown",
   "metadata": {},
   "source": [
    "## The Above Method Only predicts 0\n",
    "\n",
    "# Try New Method from Flask app below"
   ]
  },
  {
   "cell_type": "code",
   "execution_count": 9,
   "metadata": {},
   "outputs": [],
   "source": [
    "import numpy as np"
   ]
  },
  {
   "cell_type": "code",
   "execution_count": 10,
   "metadata": {},
   "outputs": [],
   "source": [
    "def preprocess(data):\n",
    "    # Updated lists without 'loan_status'\n",
    "    numerical_feature_names = ['person_age', 'person_income', 'person_emp_length', 'loan_amnt', 'loan_int_rate', \n",
    "                               'loan_percent_income', 'cb_person_cred_hist_length']\n",
    "    categorical_feature_names = ['person_home_ownership_MORTGAGE', 'person_home_ownership_OTHER', \n",
    "                                 'person_home_ownership_OWN', 'person_home_ownership_RENT', \n",
    "                                 'loan_intent_DEBTCONSOLIDATION', 'loan_intent_EDUCATION', \n",
    "                                 'loan_intent_HOMEIMPROVEMENT', 'loan_intent_MEDICAL', \n",
    "                                 'loan_intent_PERSONAL', 'loan_intent_VENTURE', 'loan_grade_A', \n",
    "                                 'loan_grade_B', 'loan_grade_C', 'loan_grade_D', 'loan_grade_E', \n",
    "                                 'loan_grade_F', 'loan_grade_G', 'cb_person_default_on_file_N', \n",
    "                                 'cb_person_default_on_file_Y']\n",
    "\n",
    "    df = pd.DataFrame([data])\n",
    "    categorical_columns = ['person_home_ownership', 'loan_intent', 'loan_grade', 'cb_person_default_on_file']\n",
    "    \n",
    "    # Handling missing features by setting a default value or skipping\n",
    "    numerical_features = np.array([data.get(feature, 0.0) for feature in numerical_feature_names]).reshape(1, -1)\n",
    "    # Ensure categorical features are correctly extracted\n",
    "    categorical_features = np.array([data.get(feature, 0) for feature in categorical_columns]).reshape(1, -1)\n",
    "    \n",
    "    # Apply one-hot encoding to categorical features\n",
    "    encoded_features = encoder.transform(categorical_features).toarray()\n",
    "    \n",
    "    # Scale numerical features\n",
    "    scaled_numerical_features = scaler.transform(numerical_features)\n",
    "    \n",
    "    # Concatenate scaled numerical features and encoded categorical features\n",
    "    processed_data = np.concatenate([scaled_numerical_features, encoded_features], axis=1)\n",
    "    \n",
    "    return processed_data"
   ]
  },
  {
   "cell_type": "code",
   "execution_count": 11,
   "metadata": {},
   "outputs": [],
   "source": [
    "#preprocess(new_data)\n",
    "\n",
    "## preprocess function returns error"
   ]
  },
  {
   "cell_type": "code",
   "execution_count": 12,
   "metadata": {},
   "outputs": [],
   "source": [
    "def preprocess_(data):\n",
    "    # Updated lists without 'loan_status'\n",
    "    numerical_feature_names = ['person_age', 'person_income', 'person_emp_length', 'loan_amnt', 'loan_int_rate', \n",
    "                               'loan_percent_income', 'cb_person_cred_hist_length']\n",
    "    categorical_feature_names = ['person_home_ownership_MORTGAGE', 'person_home_ownership_OTHER', \n",
    "                                 'person_home_ownership_OWN', 'person_home_ownership_RENT', \n",
    "                                 'loan_intent_DEBTCONSOLIDATION', 'loan_intent_EDUCATION', \n",
    "                                 'loan_intent_HOMEIMPROVEMENT', 'loan_intent_MEDICAL', \n",
    "                                 'loan_intent_PERSONAL', 'loan_intent_VENTURE', 'loan_grade_A', \n",
    "                                 'loan_grade_B', 'loan_grade_C', 'loan_grade_D', 'loan_grade_E', \n",
    "                                 'loan_grade_F', 'loan_grade_G', 'cb_person_default_on_file_N', \n",
    "                                 'cb_person_default_on_file_Y']\n",
    "\n",
    "    df = pd.DataFrame([data])\n",
    "    categorical_columns = ['person_home_ownership', 'loan_intent', 'loan_grade', 'cb_person_default_on_file']\n",
    "    \n",
    "    # Handling missing features by setting a default value or skipping\n",
    "    numerical_features = np.array([data.get(feature, 0.0) for feature in numerical_feature_names]).reshape(1, -1)\n",
    "    # Ensure categorical features are correctly extracted\n",
    "    categorical_features = np.array([data.get(feature, 0) for feature in categorical_columns]).reshape(1, -1)\n",
    "    \n",
    "    # Apply one-hot encoding to categorical features\n",
    "    encoded_features = encoder.transform(categorical_features).toarray()\n",
    "    \n",
    "    # Scale numerical features\n",
    "    scaled_numerical_features = scaler.transform(numerical_features)\n",
    "    \n",
    "    # Concatenate scaled numerical features and encoded categorical features\n",
    "    processed_data = np.concatenate([scaled_numerical_features, encoded_features], axis=1)\n",
    "    \n",
    "    return processed_data"
   ]
  },
  {
   "cell_type": "markdown",
   "metadata": {},
   "source": [
    "# Testing 3rd method - manual\n"
   ]
  },
  {
   "cell_type": "code",
   "execution_count": 13,
   "metadata": {},
   "outputs": [],
   "source": [
    "new_data = {'person_age': 21, 'person_income': 9600, 'person_home_ownership': 'OWN', 'person_emp_length': 5, 'loan_intent': 'EDUCATION', 'loan_grade': 'B', 'loan_amnt': 1000, 'loan_int_rate': 11.14, 'loan_percent_income': 0.1, 'cb_person_default_on_file': 'N', 'cb_person_cred_hist_length': 2}"
   ]
  },
  {
   "cell_type": "code",
   "execution_count": 14,
   "metadata": {},
   "outputs": [
    {
     "data": {
      "text/html": [
       "<div>\n",
       "<style scoped>\n",
       "    .dataframe tbody tr th:only-of-type {\n",
       "        vertical-align: middle;\n",
       "    }\n",
       "\n",
       "    .dataframe tbody tr th {\n",
       "        vertical-align: top;\n",
       "    }\n",
       "\n",
       "    .dataframe thead th {\n",
       "        text-align: right;\n",
       "    }\n",
       "</style>\n",
       "<table border=\"1\" class=\"dataframe\">\n",
       "  <thead>\n",
       "    <tr style=\"text-align: right;\">\n",
       "      <th></th>\n",
       "      <th>person_age</th>\n",
       "      <th>person_income</th>\n",
       "      <th>person_home_ownership</th>\n",
       "      <th>person_emp_length</th>\n",
       "      <th>loan_intent</th>\n",
       "      <th>loan_grade</th>\n",
       "      <th>loan_amnt</th>\n",
       "      <th>loan_int_rate</th>\n",
       "      <th>loan_percent_income</th>\n",
       "      <th>cb_person_default_on_file</th>\n",
       "      <th>cb_person_cred_hist_length</th>\n",
       "    </tr>\n",
       "  </thead>\n",
       "  <tbody>\n",
       "    <tr>\n",
       "      <th>0</th>\n",
       "      <td>21</td>\n",
       "      <td>9600</td>\n",
       "      <td>OWN</td>\n",
       "      <td>5</td>\n",
       "      <td>EDUCATION</td>\n",
       "      <td>B</td>\n",
       "      <td>1000</td>\n",
       "      <td>11.14</td>\n",
       "      <td>0.1</td>\n",
       "      <td>N</td>\n",
       "      <td>2</td>\n",
       "    </tr>\n",
       "  </tbody>\n",
       "</table>\n",
       "</div>"
      ],
      "text/plain": [
       "   person_age  person_income person_home_ownership  person_emp_length  \\\n",
       "0          21           9600                   OWN                  5   \n",
       "\n",
       "  loan_intent loan_grade  loan_amnt  loan_int_rate  loan_percent_income  \\\n",
       "0   EDUCATION          B       1000          11.14                  0.1   \n",
       "\n",
       "  cb_person_default_on_file  cb_person_cred_hist_length  \n",
       "0                         N                           2  "
      ]
     },
     "execution_count": 14,
     "metadata": {},
     "output_type": "execute_result"
    }
   ],
   "source": [
    "test_df = pd.DataFrame([new_data])\n",
    "\n",
    "test_df"
   ]
  },
  {
   "cell_type": "code",
   "execution_count": 15,
   "metadata": {},
   "outputs": [
    {
     "data": {
      "text/plain": [
       "['person_home_ownership',\n",
       " 'loan_intent',\n",
       " 'loan_grade',\n",
       " 'cb_person_default_on_file']"
      ]
     },
     "execution_count": 15,
     "metadata": {},
     "output_type": "execute_result"
    }
   ],
   "source": [
    "# Generate our categorical variable lists\n",
    "df_cat = test_df.dtypes[test_df.dtypes == \"object\"].index.tolist()\n",
    "df_cat"
   ]
  },
  {
   "cell_type": "code",
   "execution_count": 16,
   "metadata": {},
   "outputs": [
    {
     "data": {
      "text/html": [
       "<div>\n",
       "<style scoped>\n",
       "    .dataframe tbody tr th:only-of-type {\n",
       "        vertical-align: middle;\n",
       "    }\n",
       "\n",
       "    .dataframe tbody tr th {\n",
       "        vertical-align: top;\n",
       "    }\n",
       "\n",
       "    .dataframe thead th {\n",
       "        text-align: right;\n",
       "    }\n",
       "</style>\n",
       "<table border=\"1\" class=\"dataframe\">\n",
       "  <thead>\n",
       "    <tr style=\"text-align: right;\">\n",
       "      <th></th>\n",
       "      <th>person_home_ownership_OWN</th>\n",
       "      <th>loan_intent_EDUCATION</th>\n",
       "      <th>loan_grade_B</th>\n",
       "      <th>cb_person_default_on_file_N</th>\n",
       "    </tr>\n",
       "  </thead>\n",
       "  <tbody>\n",
       "    <tr>\n",
       "      <th>0</th>\n",
       "      <td>1.0</td>\n",
       "      <td>1.0</td>\n",
       "      <td>1.0</td>\n",
       "      <td>1.0</td>\n",
       "    </tr>\n",
       "  </tbody>\n",
       "</table>\n",
       "</div>"
      ],
      "text/plain": [
       "   person_home_ownership_OWN  loan_intent_EDUCATION  loan_grade_B  \\\n",
       "0                        1.0                    1.0           1.0   \n",
       "\n",
       "   cb_person_default_on_file_N  \n",
       "0                          1.0  "
      ]
     },
     "execution_count": 16,
     "metadata": {},
     "output_type": "execute_result"
    }
   ],
   "source": [
    "# Create a OneHotEncoder instance\n",
    "encoder = OneHotEncoder()\n",
    "\n",
    "# Fit and transform the OneHotEncoder using the categorical variable list\n",
    "encode_df = pd.DataFrame(encoder.fit_transform(test_df[df_cat]).toarray())\n",
    "\n",
    "# Add the encoded variable names to the dataframe\n",
    "encode_df.columns = encoder.get_feature_names_out(df_cat)\n",
    "encode_df.head()"
   ]
  },
  {
   "cell_type": "code",
   "execution_count": 17,
   "metadata": {},
   "outputs": [
    {
     "name": "stderr",
     "output_type": "stream",
     "text": [
      "/var/folders/sg/_zsmk78523l9qn84979_kvq40000gn/T/ipykernel_56671/1889230659.py:2: FutureWarning: In a future version of pandas all arguments of DataFrame.drop except for the argument 'labels' will be keyword-only.\n",
      "  test_df = test_df.drop(df_cat, 1)\n"
     ]
    },
    {
     "data": {
      "text/html": [
       "<div>\n",
       "<style scoped>\n",
       "    .dataframe tbody tr th:only-of-type {\n",
       "        vertical-align: middle;\n",
       "    }\n",
       "\n",
       "    .dataframe tbody tr th {\n",
       "        vertical-align: top;\n",
       "    }\n",
       "\n",
       "    .dataframe thead th {\n",
       "        text-align: right;\n",
       "    }\n",
       "</style>\n",
       "<table border=\"1\" class=\"dataframe\">\n",
       "  <thead>\n",
       "    <tr style=\"text-align: right;\">\n",
       "      <th></th>\n",
       "      <th>person_age</th>\n",
       "      <th>person_income</th>\n",
       "      <th>person_emp_length</th>\n",
       "      <th>loan_amnt</th>\n",
       "      <th>loan_int_rate</th>\n",
       "      <th>loan_percent_income</th>\n",
       "      <th>cb_person_cred_hist_length</th>\n",
       "      <th>person_home_ownership_OWN</th>\n",
       "      <th>loan_intent_EDUCATION</th>\n",
       "      <th>loan_grade_B</th>\n",
       "      <th>cb_person_default_on_file_N</th>\n",
       "    </tr>\n",
       "  </thead>\n",
       "  <tbody>\n",
       "    <tr>\n",
       "      <th>0</th>\n",
       "      <td>21</td>\n",
       "      <td>9600</td>\n",
       "      <td>5</td>\n",
       "      <td>1000</td>\n",
       "      <td>11.14</td>\n",
       "      <td>0.1</td>\n",
       "      <td>2</td>\n",
       "      <td>1.0</td>\n",
       "      <td>1.0</td>\n",
       "      <td>1.0</td>\n",
       "      <td>1.0</td>\n",
       "    </tr>\n",
       "  </tbody>\n",
       "</table>\n",
       "</div>"
      ],
      "text/plain": [
       "   person_age  person_income  person_emp_length  loan_amnt  loan_int_rate  \\\n",
       "0          21           9600                  5       1000          11.14   \n",
       "\n",
       "   loan_percent_income  cb_person_cred_hist_length  person_home_ownership_OWN  \\\n",
       "0                  0.1                           2                        1.0   \n",
       "\n",
       "   loan_intent_EDUCATION  loan_grade_B  cb_person_default_on_file_N  \n",
       "0                    1.0           1.0                          1.0  "
      ]
     },
     "execution_count": 17,
     "metadata": {},
     "output_type": "execute_result"
    }
   ],
   "source": [
    "test_df = test_df.merge(encode_df, left_index=True, right_index=True)\n",
    "test_df = test_df.drop(df_cat, 1)\n",
    "test_df.head()"
   ]
  },
  {
   "cell_type": "code",
   "execution_count": 18,
   "metadata": {},
   "outputs": [
    {
     "data": {
      "text/plain": [
       "11"
      ]
     },
     "execution_count": 18,
     "metadata": {},
     "output_type": "execute_result"
    }
   ],
   "source": [
    "len(test_df.columns)"
   ]
  },
  {
   "cell_type": "code",
   "execution_count": 19,
   "metadata": {},
   "outputs": [
    {
     "data": {
      "text/html": [
       "<div>\n",
       "<style scoped>\n",
       "    .dataframe tbody tr th:only-of-type {\n",
       "        vertical-align: middle;\n",
       "    }\n",
       "\n",
       "    .dataframe tbody tr th {\n",
       "        vertical-align: top;\n",
       "    }\n",
       "\n",
       "    .dataframe thead th {\n",
       "        text-align: right;\n",
       "    }\n",
       "</style>\n",
       "<table border=\"1\" class=\"dataframe\">\n",
       "  <thead>\n",
       "    <tr style=\"text-align: right;\">\n",
       "      <th></th>\n",
       "      <th>person_age</th>\n",
       "      <th>person_income</th>\n",
       "      <th>person_emp_length</th>\n",
       "      <th>loan_amnt</th>\n",
       "      <th>loan_int_rate</th>\n",
       "      <th>loan_percent_income</th>\n",
       "      <th>cb_person_cred_hist_length</th>\n",
       "      <th>person_home_ownership_MORTGAGE</th>\n",
       "      <th>person_home_ownership_OTHER</th>\n",
       "      <th>person_home_ownership_OWN</th>\n",
       "      <th>person_home_ownership_RENT</th>\n",
       "      <th>loan_intent_DEBTCONSOLIDATION</th>\n",
       "      <th>loan_intent_EDUCATION</th>\n",
       "      <th>loan_intent_HOMEIMPROVEMENT</th>\n",
       "      <th>loan_intent_MEDICAL</th>\n",
       "      <th>loan_intent_PERSONAL</th>\n",
       "      <th>loan_intent_VENTURE</th>\n",
       "      <th>loan_grade_A</th>\n",
       "      <th>loan_grade_B</th>\n",
       "      <th>loan_grade_C</th>\n",
       "      <th>loan_grade_D</th>\n",
       "      <th>loan_grade_E</th>\n",
       "      <th>loan_grade_F</th>\n",
       "      <th>loan_grade_G</th>\n",
       "      <th>cb_person_default_on_file_N</th>\n",
       "      <th>cb_person_default_on_file_Y</th>\n",
       "    </tr>\n",
       "  </thead>\n",
       "  <tbody>\n",
       "    <tr>\n",
       "      <th>0</th>\n",
       "      <td>21</td>\n",
       "      <td>9600</td>\n",
       "      <td>5</td>\n",
       "      <td>1000</td>\n",
       "      <td>11.14</td>\n",
       "      <td>0.1</td>\n",
       "      <td>2</td>\n",
       "      <td>0.0</td>\n",
       "      <td>0.0</td>\n",
       "      <td>1.0</td>\n",
       "      <td>0.0</td>\n",
       "      <td>0.0</td>\n",
       "      <td>1.0</td>\n",
       "      <td>0.0</td>\n",
       "      <td>0.0</td>\n",
       "      <td>0.0</td>\n",
       "      <td>0.0</td>\n",
       "      <td>0.0</td>\n",
       "      <td>1.0</td>\n",
       "      <td>0.0</td>\n",
       "      <td>0.0</td>\n",
       "      <td>0.0</td>\n",
       "      <td>0.0</td>\n",
       "      <td>0.0</td>\n",
       "      <td>1.0</td>\n",
       "      <td>0.0</td>\n",
       "    </tr>\n",
       "  </tbody>\n",
       "</table>\n",
       "</div>"
      ],
      "text/plain": [
       "   person_age  person_income  person_emp_length  loan_amnt  loan_int_rate  \\\n",
       "0          21           9600                  5       1000          11.14   \n",
       "\n",
       "   loan_percent_income  cb_person_cred_hist_length  \\\n",
       "0                  0.1                           2   \n",
       "\n",
       "   person_home_ownership_MORTGAGE  person_home_ownership_OTHER  \\\n",
       "0                             0.0                          0.0   \n",
       "\n",
       "   person_home_ownership_OWN  person_home_ownership_RENT  \\\n",
       "0                        1.0                         0.0   \n",
       "\n",
       "   loan_intent_DEBTCONSOLIDATION  loan_intent_EDUCATION  \\\n",
       "0                            0.0                    1.0   \n",
       "\n",
       "   loan_intent_HOMEIMPROVEMENT  loan_intent_MEDICAL  loan_intent_PERSONAL  \\\n",
       "0                          0.0                  0.0                   0.0   \n",
       "\n",
       "   loan_intent_VENTURE  loan_grade_A  loan_grade_B  loan_grade_C  \\\n",
       "0                  0.0           0.0           1.0           0.0   \n",
       "\n",
       "   loan_grade_D  loan_grade_E  loan_grade_F  loan_grade_G  \\\n",
       "0           0.0           0.0           0.0           0.0   \n",
       "\n",
       "   cb_person_default_on_file_N  cb_person_default_on_file_Y  \n",
       "0                          1.0                          0.0  "
      ]
     },
     "execution_count": 19,
     "metadata": {},
     "output_type": "execute_result"
    }
   ],
   "source": [
    "# Ensure all columns present in the training data are in the new data\n",
    "training_categorical_columns = ['person_home_ownership_MORTGAGE', 'person_home_ownership_OTHER', \n",
    "                                 'person_home_ownership_OWN', 'person_home_ownership_RENT', \n",
    "                                 'loan_intent_DEBTCONSOLIDATION', 'loan_intent_EDUCATION', \n",
    "                                 'loan_intent_HOMEIMPROVEMENT', 'loan_intent_MEDICAL', \n",
    "                                 'loan_intent_PERSONAL', 'loan_intent_VENTURE', 'loan_grade_A', \n",
    "                                 'loan_grade_B', 'loan_grade_C', 'loan_grade_D', 'loan_grade_E', \n",
    "                                 'loan_grade_F', 'loan_grade_G', 'cb_person_default_on_file_N', \n",
    "                                 'cb_person_default_on_file_Y']\n",
    "\n",
    "missing_cols = set(training_categorical_columns).difference(test_df.columns)\n",
    "for col in missing_cols:\n",
    "    test_df[col] = 0.0\n",
    "\n",
    "# Reorder the columns to match the order in the training data\n",
    "new_df = test_df[['person_age', 'person_income', 'person_emp_length', \n",
    "                                                'loan_amnt', 'loan_int_rate','loan_percent_income', 'cb_person_cred_hist_length'] + training_categorical_columns  ]\n",
    "\n",
    "pd.set_option('display.max_columns', None)\n",
    "\n",
    "# Now new_df contains the preprocessed data ready for prediction\n",
    "new_df\n"
   ]
  },
  {
   "cell_type": "code",
   "execution_count": 20,
   "metadata": {},
   "outputs": [],
   "source": [
    "X = new_df.values"
   ]
  },
  {
   "cell_type": "code",
   "execution_count": 21,
   "metadata": {},
   "outputs": [],
   "source": [
    "X_scaler = scaler.fit_transform(X)"
   ]
  },
  {
   "cell_type": "code",
   "execution_count": 22,
   "metadata": {},
   "outputs": [
    {
     "name": "stdout",
     "output_type": "stream",
     "text": [
      "1/1 [==============================] - 0s 11ms/step\n"
     ]
    },
    {
     "data": {
      "text/plain": [
       "0.14121939"
      ]
     },
     "execution_count": 22,
     "metadata": {},
     "output_type": "execute_result"
    }
   ],
   "source": [
    "model.predict(X_scaler)[0][0]"
   ]
  },
  {
   "cell_type": "code",
   "execution_count": 23,
   "metadata": {},
   "outputs": [
    {
     "name": "stdout",
     "output_type": "stream",
     "text": [
      "Model: \"sequential\"\n",
      "_________________________________________________________________\n",
      " Layer (type)                Output Shape              Param #   \n",
      "=================================================================\n",
      " dense (Dense)               (None, 8)                 216       \n",
      "                                                                 \n",
      " dense_1 (Dense)             (None, 5)                 45        \n",
      "                                                                 \n",
      " dense_2 (Dense)             (None, 1)                 6         \n",
      "                                                                 \n",
      "=================================================================\n",
      "Total params: 267\n",
      "Trainable params: 267\n",
      "Non-trainable params: 0\n",
      "_________________________________________________________________\n"
     ]
    }
   ],
   "source": [
    "model.summary()"
   ]
  },
  {
   "cell_type": "code",
   "execution_count": 24,
   "metadata": {},
   "outputs": [],
   "source": [
    "# Model still predicts same value for different data"
   ]
  },
  {
   "cell_type": "markdown",
   "metadata": {},
   "source": [
    "## Test 4\n"
   ]
  },
  {
   "cell_type": "code",
   "execution_count": 73,
   "metadata": {},
   "outputs": [],
   "source": [
    "test_data = {'person_age': 20, 'person_income': 500, 'person_home_ownership': 'RENT', 'person_emp_length': 2, 'loan_intent': 'DEBTCONSOLIDATION', 'loan_grade': 'F', 'loan_amnt': 290, 'loan_int_rate': 5, 'loan_percent_income': 0.58, 'cb_person_default_on_file': 'Y', 'cb_person_cred_hist_length': 1}"
   ]
  },
  {
   "cell_type": "code",
   "execution_count": 74,
   "metadata": {},
   "outputs": [
    {
     "data": {
      "text/html": [
       "<div>\n",
       "<style scoped>\n",
       "    .dataframe tbody tr th:only-of-type {\n",
       "        vertical-align: middle;\n",
       "    }\n",
       "\n",
       "    .dataframe tbody tr th {\n",
       "        vertical-align: top;\n",
       "    }\n",
       "\n",
       "    .dataframe thead th {\n",
       "        text-align: right;\n",
       "    }\n",
       "</style>\n",
       "<table border=\"1\" class=\"dataframe\">\n",
       "  <thead>\n",
       "    <tr style=\"text-align: right;\">\n",
       "      <th></th>\n",
       "      <th>person_age</th>\n",
       "      <th>person_income</th>\n",
       "      <th>person_home_ownership</th>\n",
       "      <th>person_emp_length</th>\n",
       "      <th>loan_intent</th>\n",
       "      <th>loan_grade</th>\n",
       "      <th>loan_amnt</th>\n",
       "      <th>loan_int_rate</th>\n",
       "      <th>loan_percent_income</th>\n",
       "      <th>cb_person_default_on_file</th>\n",
       "      <th>cb_person_cred_hist_length</th>\n",
       "    </tr>\n",
       "  </thead>\n",
       "  <tbody>\n",
       "    <tr>\n",
       "      <th>0</th>\n",
       "      <td>20</td>\n",
       "      <td>500</td>\n",
       "      <td>RENT</td>\n",
       "      <td>2</td>\n",
       "      <td>DEBTCONSOLIDATION</td>\n",
       "      <td>F</td>\n",
       "      <td>290</td>\n",
       "      <td>5</td>\n",
       "      <td>0.58</td>\n",
       "      <td>Y</td>\n",
       "      <td>1</td>\n",
       "    </tr>\n",
       "  </tbody>\n",
       "</table>\n",
       "</div>"
      ],
      "text/plain": [
       "   person_age  person_income person_home_ownership  person_emp_length  \\\n",
       "0          20            500                  RENT                  2   \n",
       "\n",
       "         loan_intent loan_grade  loan_amnt  loan_int_rate  \\\n",
       "0  DEBTCONSOLIDATION          F        290              5   \n",
       "\n",
       "   loan_percent_income cb_person_default_on_file  cb_person_cred_hist_length  \n",
       "0                 0.58                         Y                           1  "
      ]
     },
     "execution_count": 74,
     "metadata": {},
     "output_type": "execute_result"
    }
   ],
   "source": [
    "df = pd.DataFrame([test_data])\n",
    "\n",
    "df"
   ]
  },
  {
   "cell_type": "code",
   "execution_count": 75,
   "metadata": {},
   "outputs": [],
   "source": [
    "# Generate categorical values\n",
    "df_categ = df.dtypes[df.dtypes == 'object'].index.to_list()"
   ]
  },
  {
   "cell_type": "code",
   "execution_count": 76,
   "metadata": {},
   "outputs": [
    {
     "data": {
      "text/html": [
       "<div>\n",
       "<style scoped>\n",
       "    .dataframe tbody tr th:only-of-type {\n",
       "        vertical-align: middle;\n",
       "    }\n",
       "\n",
       "    .dataframe tbody tr th {\n",
       "        vertical-align: top;\n",
       "    }\n",
       "\n",
       "    .dataframe thead th {\n",
       "        text-align: right;\n",
       "    }\n",
       "</style>\n",
       "<table border=\"1\" class=\"dataframe\">\n",
       "  <thead>\n",
       "    <tr style=\"text-align: right;\">\n",
       "      <th></th>\n",
       "      <th>person_home_ownership_RENT</th>\n",
       "      <th>loan_intent_DEBTCONSOLIDATION</th>\n",
       "      <th>loan_grade_F</th>\n",
       "      <th>cb_person_default_on_file_Y</th>\n",
       "    </tr>\n",
       "  </thead>\n",
       "  <tbody>\n",
       "    <tr>\n",
       "      <th>0</th>\n",
       "      <td>1.0</td>\n",
       "      <td>1.0</td>\n",
       "      <td>1.0</td>\n",
       "      <td>1.0</td>\n",
       "    </tr>\n",
       "  </tbody>\n",
       "</table>\n",
       "</div>"
      ],
      "text/plain": [
       "   person_home_ownership_RENT  loan_intent_DEBTCONSOLIDATION  loan_grade_F  \\\n",
       "0                         1.0                            1.0           1.0   \n",
       "\n",
       "   cb_person_default_on_file_Y  \n",
       "0                          1.0  "
      ]
     },
     "execution_count": 76,
     "metadata": {},
     "output_type": "execute_result"
    }
   ],
   "source": [
    "# Create a OneHotEncoder instance\n",
    "enc = OneHotEncoder(sparse_output=False)\n",
    "\n",
    "# Fit and transform the OneHotEncoder using the categorical variable list\n",
    "encode_df = pd.DataFrame(enc.fit_transform(df[df_categ]))\n",
    "\n",
    "# Add the encoded variable names to the dataframe\n",
    "encode_df.columns = enc.get_feature_names_out(df_categ)\n",
    "encode_df.head()"
   ]
  },
  {
   "cell_type": "code",
   "execution_count": 77,
   "metadata": {},
   "outputs": [
    {
     "name": "stderr",
     "output_type": "stream",
     "text": [
      "/var/folders/sg/_zsmk78523l9qn84979_kvq40000gn/T/ipykernel_56671/75819189.py:2: FutureWarning: In a future version of pandas all arguments of DataFrame.drop except for the argument 'labels' will be keyword-only.\n",
      "  df = df.drop(df_categ, 1)\n"
     ]
    },
    {
     "data": {
      "text/html": [
       "<div>\n",
       "<style scoped>\n",
       "    .dataframe tbody tr th:only-of-type {\n",
       "        vertical-align: middle;\n",
       "    }\n",
       "\n",
       "    .dataframe tbody tr th {\n",
       "        vertical-align: top;\n",
       "    }\n",
       "\n",
       "    .dataframe thead th {\n",
       "        text-align: right;\n",
       "    }\n",
       "</style>\n",
       "<table border=\"1\" class=\"dataframe\">\n",
       "  <thead>\n",
       "    <tr style=\"text-align: right;\">\n",
       "      <th></th>\n",
       "      <th>person_age</th>\n",
       "      <th>person_income</th>\n",
       "      <th>person_emp_length</th>\n",
       "      <th>loan_amnt</th>\n",
       "      <th>loan_int_rate</th>\n",
       "      <th>loan_percent_income</th>\n",
       "      <th>cb_person_cred_hist_length</th>\n",
       "      <th>person_home_ownership_RENT</th>\n",
       "      <th>loan_intent_DEBTCONSOLIDATION</th>\n",
       "      <th>loan_grade_F</th>\n",
       "      <th>cb_person_default_on_file_Y</th>\n",
       "    </tr>\n",
       "  </thead>\n",
       "  <tbody>\n",
       "    <tr>\n",
       "      <th>0</th>\n",
       "      <td>20</td>\n",
       "      <td>500</td>\n",
       "      <td>2</td>\n",
       "      <td>290</td>\n",
       "      <td>5</td>\n",
       "      <td>0.58</td>\n",
       "      <td>1</td>\n",
       "      <td>1.0</td>\n",
       "      <td>1.0</td>\n",
       "      <td>1.0</td>\n",
       "      <td>1.0</td>\n",
       "    </tr>\n",
       "  </tbody>\n",
       "</table>\n",
       "</div>"
      ],
      "text/plain": [
       "   person_age  person_income  person_emp_length  loan_amnt  loan_int_rate  \\\n",
       "0          20            500                  2        290              5   \n",
       "\n",
       "   loan_percent_income  cb_person_cred_hist_length  \\\n",
       "0                 0.58                           1   \n",
       "\n",
       "   person_home_ownership_RENT  loan_intent_DEBTCONSOLIDATION  loan_grade_F  \\\n",
       "0                         1.0                            1.0           1.0   \n",
       "\n",
       "   cb_person_default_on_file_Y  \n",
       "0                          1.0  "
      ]
     },
     "execution_count": 77,
     "metadata": {},
     "output_type": "execute_result"
    }
   ],
   "source": [
    "df = df.merge(encode_df, left_index=True, right_index=True)\n",
    "df = df.drop(df_categ, 1)\n",
    "df.head()"
   ]
  },
  {
   "cell_type": "code",
   "execution_count": 78,
   "metadata": {},
   "outputs": [
    {
     "data": {
      "text/html": [
       "<div>\n",
       "<style scoped>\n",
       "    .dataframe tbody tr th:only-of-type {\n",
       "        vertical-align: middle;\n",
       "    }\n",
       "\n",
       "    .dataframe tbody tr th {\n",
       "        vertical-align: top;\n",
       "    }\n",
       "\n",
       "    .dataframe thead th {\n",
       "        text-align: right;\n",
       "    }\n",
       "</style>\n",
       "<table border=\"1\" class=\"dataframe\">\n",
       "  <thead>\n",
       "    <tr style=\"text-align: right;\">\n",
       "      <th></th>\n",
       "      <th>person_age</th>\n",
       "      <th>person_income</th>\n",
       "      <th>person_emp_length</th>\n",
       "      <th>loan_amnt</th>\n",
       "      <th>loan_int_rate</th>\n",
       "      <th>loan_percent_income</th>\n",
       "      <th>cb_person_cred_hist_length</th>\n",
       "      <th>person_home_ownership_MORTGAGE</th>\n",
       "      <th>person_home_ownership_OTHER</th>\n",
       "      <th>person_home_ownership_OWN</th>\n",
       "      <th>person_home_ownership_RENT</th>\n",
       "      <th>loan_intent_DEBTCONSOLIDATION</th>\n",
       "      <th>loan_intent_EDUCATION</th>\n",
       "      <th>loan_intent_HOMEIMPROVEMENT</th>\n",
       "      <th>loan_intent_MEDICAL</th>\n",
       "      <th>loan_intent_PERSONAL</th>\n",
       "      <th>loan_intent_VENTURE</th>\n",
       "      <th>loan_grade_A</th>\n",
       "      <th>loan_grade_B</th>\n",
       "      <th>loan_grade_C</th>\n",
       "      <th>loan_grade_D</th>\n",
       "      <th>loan_grade_E</th>\n",
       "      <th>loan_grade_F</th>\n",
       "      <th>loan_grade_G</th>\n",
       "      <th>cb_person_default_on_file_N</th>\n",
       "      <th>cb_person_default_on_file_Y</th>\n",
       "    </tr>\n",
       "  </thead>\n",
       "  <tbody>\n",
       "    <tr>\n",
       "      <th>0</th>\n",
       "      <td>20</td>\n",
       "      <td>500</td>\n",
       "      <td>2</td>\n",
       "      <td>290</td>\n",
       "      <td>5</td>\n",
       "      <td>0.58</td>\n",
       "      <td>1</td>\n",
       "      <td>0.0</td>\n",
       "      <td>0.0</td>\n",
       "      <td>0.0</td>\n",
       "      <td>1.0</td>\n",
       "      <td>1.0</td>\n",
       "      <td>0.0</td>\n",
       "      <td>0.0</td>\n",
       "      <td>0.0</td>\n",
       "      <td>0.0</td>\n",
       "      <td>0.0</td>\n",
       "      <td>0.0</td>\n",
       "      <td>0.0</td>\n",
       "      <td>0.0</td>\n",
       "      <td>0.0</td>\n",
       "      <td>0.0</td>\n",
       "      <td>1.0</td>\n",
       "      <td>0.0</td>\n",
       "      <td>0.0</td>\n",
       "      <td>1.0</td>\n",
       "    </tr>\n",
       "  </tbody>\n",
       "</table>\n",
       "</div>"
      ],
      "text/plain": [
       "   person_age  person_income  person_emp_length  loan_amnt  loan_int_rate  \\\n",
       "0          20            500                  2        290              5   \n",
       "\n",
       "   loan_percent_income  cb_person_cred_hist_length  \\\n",
       "0                 0.58                           1   \n",
       "\n",
       "   person_home_ownership_MORTGAGE  person_home_ownership_OTHER  \\\n",
       "0                             0.0                          0.0   \n",
       "\n",
       "   person_home_ownership_OWN  person_home_ownership_RENT  \\\n",
       "0                        0.0                         1.0   \n",
       "\n",
       "   loan_intent_DEBTCONSOLIDATION  loan_intent_EDUCATION  \\\n",
       "0                            1.0                    0.0   \n",
       "\n",
       "   loan_intent_HOMEIMPROVEMENT  loan_intent_MEDICAL  loan_intent_PERSONAL  \\\n",
       "0                          0.0                  0.0                   0.0   \n",
       "\n",
       "   loan_intent_VENTURE  loan_grade_A  loan_grade_B  loan_grade_C  \\\n",
       "0                  0.0           0.0           0.0           0.0   \n",
       "\n",
       "   loan_grade_D  loan_grade_E  loan_grade_F  loan_grade_G  \\\n",
       "0           0.0           0.0           1.0           0.0   \n",
       "\n",
       "   cb_person_default_on_file_N  cb_person_default_on_file_Y  \n",
       "0                          0.0                          1.0  "
      ]
     },
     "execution_count": 78,
     "metadata": {},
     "output_type": "execute_result"
    }
   ],
   "source": [
    "# Ensure all columns present in the training data are in the new data\n",
    "training_categorical_columns = ['person_home_ownership_MORTGAGE', 'person_home_ownership_OTHER', \n",
    "                                 'person_home_ownership_OWN', 'person_home_ownership_RENT', \n",
    "                                 'loan_intent_DEBTCONSOLIDATION', 'loan_intent_EDUCATION', \n",
    "                                 'loan_intent_HOMEIMPROVEMENT', 'loan_intent_MEDICAL', \n",
    "                                 'loan_intent_PERSONAL', 'loan_intent_VENTURE', 'loan_grade_A', \n",
    "                                 'loan_grade_B', 'loan_grade_C', 'loan_grade_D', 'loan_grade_E', \n",
    "                                 'loan_grade_F', 'loan_grade_G', 'cb_person_default_on_file_N', \n",
    "                                 'cb_person_default_on_file_Y']\n",
    "\n",
    "missing_cols = set(training_categorical_columns).difference(df.columns)\n",
    "for col in missing_cols:\n",
    "    df[col] = 0.0\n",
    "\n",
    "# Reorder the columns to match the order in the training data\n",
    "final_df = df[['person_age', 'person_income', 'person_emp_length', \n",
    "                                                'loan_amnt', 'loan_int_rate','loan_percent_income', 'cb_person_cred_hist_length'] + training_categorical_columns  ]\n",
    "\n",
    "pd.set_option('display.max_columns', None)\n",
    "\n",
    "# Now new_df contains the preprocessed data ready for prediction\n",
    "final_df"
   ]
  },
  {
   "cell_type": "code",
   "execution_count": 79,
   "metadata": {},
   "outputs": [
    {
     "data": {
      "text/plain": [
       "array([[ 20.  , 500.  ,   2.  , 290.  ,   5.  ,   0.58,   1.  ,   0.  ,\n",
       "          0.  ,   0.  ,   1.  ,   1.  ,   0.  ,   0.  ,   0.  ,   0.  ,\n",
       "          0.  ,   0.  ,   0.  ,   0.  ,   0.  ,   0.  ,   1.  ,   0.  ,\n",
       "          0.  ,   1.  ]])"
      ]
     },
     "execution_count": 79,
     "metadata": {},
     "output_type": "execute_result"
    }
   ],
   "source": [
    "X = final_df.values\n",
    "X"
   ]
  },
  {
   "cell_type": "code",
   "execution_count": 80,
   "metadata": {},
   "outputs": [],
   "source": [
    "X_scaled = scaler.transform(X)"
   ]
  },
  {
   "cell_type": "code",
   "execution_count": 81,
   "metadata": {},
   "outputs": [
    {
     "data": {
      "text/plain": [
       "array([[-1.00e+00, -9.10e+03, -3.00e+00, -7.10e+02, -6.14e+00,  4.80e-01,\n",
       "        -1.00e+00,  0.00e+00,  0.00e+00, -1.00e+00,  1.00e+00,  1.00e+00,\n",
       "        -1.00e+00,  0.00e+00,  0.00e+00,  0.00e+00,  0.00e+00,  0.00e+00,\n",
       "        -1.00e+00,  0.00e+00,  0.00e+00,  0.00e+00,  1.00e+00,  0.00e+00,\n",
       "        -1.00e+00,  1.00e+00]])"
      ]
     },
     "execution_count": 81,
     "metadata": {},
     "output_type": "execute_result"
    }
   ],
   "source": [
    "X_scaled"
   ]
  },
  {
   "cell_type": "code",
   "execution_count": 82,
   "metadata": {},
   "outputs": [
    {
     "name": "stdout",
     "output_type": "stream",
     "text": [
      "1/1 [==============================] - 0s 11ms/step\n"
     ]
    },
    {
     "data": {
      "text/plain": [
       "array([[1.]], dtype=float32)"
      ]
     },
     "execution_count": 82,
     "metadata": {},
     "output_type": "execute_result"
    }
   ],
   "source": [
    "model.predict(X_scaled)"
   ]
  },
  {
   "cell_type": "code",
   "execution_count": 83,
   "metadata": {},
   "outputs": [],
   "source": [
    "# SUCCESS!!"
   ]
  },
  {
   "cell_type": "markdown",
   "metadata": {},
   "source": [
    "## Make a function for our Flask App"
   ]
  },
  {
   "cell_type": "code",
   "execution_count": 85,
   "metadata": {},
   "outputs": [],
   "source": [
    "def process_(data):\n",
    "    enc = OneHotEncoder(sparse_output=False)\n",
    "    \n",
    "    # Convert our JSON Data to Pandas Dataframe\n",
    "    df = pd.DataFrame([data])\n",
    "\n",
    "    # Store our categorical values (Will use for encoder)\n",
    "    df_categ = df.dtypes[df.dtypes == 'object'].index.to_list()\n",
    "\n",
    "    # Fit and transform the OneHotEncoder using the categorical variable list\n",
    "    encode_df = pd.DataFrame(enc.fit_transform(df[df_categ]))\n",
    "\n",
    "    # Add the encoded variable names to the dataframe\n",
    "    encode_df.columns = enc.get_feature_names_out(df_categ)\n",
    "\n",
    "    # Merge the encoded categorical columns with our original colums\n",
    "    df = df.merge(encode_df, left_index=True, right_index=True)\n",
    "\n",
    "    # Drop the categorical colums that are not encoded\n",
    "    df = df.drop(df_categ, 1)\n",
    "\n",
    "    # Ensure all columns present in the training data are in the new data\n",
    "    training_categorical_columns = ['person_home_ownership_MORTGAGE', 'person_home_ownership_OTHER', \n",
    "                                 'person_home_ownership_OWN', 'person_home_ownership_RENT', \n",
    "                                 'loan_intent_DEBTCONSOLIDATION', 'loan_intent_EDUCATION', \n",
    "                                 'loan_intent_HOMEIMPROVEMENT', 'loan_intent_MEDICAL', \n",
    "                                 'loan_intent_PERSONAL', 'loan_intent_VENTURE', 'loan_grade_A', \n",
    "                                 'loan_grade_B', 'loan_grade_C', 'loan_grade_D', 'loan_grade_E', \n",
    "                                 'loan_grade_F', 'loan_grade_G', 'cb_person_default_on_file_N', \n",
    "                                 'cb_person_default_on_file_Y']\n",
    "\n",
    "    missing_cols = set(training_categorical_columns).difference(df.columns)\n",
    "    for col in missing_cols:\n",
    "        df[col] = 0.0\n",
    "\n",
    "    # Reorder the columns to match the order in the training data\n",
    "    final_df = df[['person_age', 'person_income', 'person_emp_length', \n",
    "                                                'loan_amnt', 'loan_int_rate','loan_percent_income', 'cb_person_cred_hist_length'] + training_categorical_columns  ]\n",
    "\n",
    "    # Get our X values\n",
    "    X = final_df.values\n",
    "\n",
    "    # Transform our X values using our saved scaler from the training data\n",
    "    X_scaled = scaler.transform(X)\n",
    "\n",
    "    # Return processed data\n",
    "    return X_scaled\n",
    "\n"
   ]
  },
  {
   "cell_type": "code",
   "execution_count": 87,
   "metadata": {},
   "outputs": [],
   "source": [
    "# Data of HIGH credit risk\n",
    "test_data = {\n",
    "            'person_age': 20, \n",
    "            'person_income': 500, \n",
    "            'person_home_ownership': 'RENT', \n",
    "            'person_emp_length': 2, \n",
    "            'loan_intent': 'DEBTCONSOLIDATION', \n",
    "            'loan_grade': 'F', \n",
    "            'loan_amnt': 290, \n",
    "            'loan_int_rate': 5, \n",
    "            'loan_percent_income': 0.58, \n",
    "            'cb_person_default_on_file': 'Y', \n",
    "            'cb_person_cred_hist_length': 1\n",
    "            }"
   ]
  },
  {
   "cell_type": "code",
   "execution_count": 88,
   "metadata": {},
   "outputs": [],
   "source": [
    "# Data of LOW credit risk\n",
    "test_data_2 = {\n",
    "            'person_age': 30, \n",
    "            'person_income': 50000, \n",
    "            'person_home_ownership': 'MORTGAGE', \n",
    "            'person_emp_length': 5, \n",
    "            'loan_intent': 'EDUCATION', \n",
    "            'loan_grade': 'B', \n",
    "            'loan_amnt': 2900, \n",
    "            'loan_int_rate': 5, \n",
    "            'loan_percent_income': 0.06, \n",
    "            'cb_person_default_on_file': 'N', \n",
    "            'cb_person_cred_hist_length': 6\n",
    "            }"
   ]
  },
  {
   "cell_type": "code",
   "execution_count": 93,
   "metadata": {},
   "outputs": [
    {
     "name": "stdout",
     "output_type": "stream",
     "text": [
      "1/1 [==============================] - 0s 12ms/step\n"
     ]
    },
    {
     "name": "stderr",
     "output_type": "stream",
     "text": [
      "/var/folders/sg/_zsmk78523l9qn84979_kvq40000gn/T/ipykernel_56671/2535775294.py:20: FutureWarning: In a future version of pandas all arguments of DataFrame.drop except for the argument 'labels' will be keyword-only.\n",
      "  df = df.drop(df_categ, 1)\n"
     ]
    }
   ],
   "source": [
    "prediction = model.predict(process_(test_data))"
   ]
  },
  {
   "cell_type": "code",
   "execution_count": 96,
   "metadata": {},
   "outputs": [
    {
     "data": {
      "text/plain": [
       "1.0"
      ]
     },
     "execution_count": 96,
     "metadata": {},
     "output_type": "execute_result"
    }
   ],
   "source": [
    "prediction[0].tolist()"
   ]
  }
 ],
 "metadata": {
  "kernelspec": {
   "display_name": "Python 3.11.4 ('base')",
   "language": "python",
   "name": "python3"
  },
  "language_info": {
   "codemirror_mode": {
    "name": "ipython",
    "version": 3
   },
   "file_extension": ".py",
   "mimetype": "text/x-python",
   "name": "python",
   "nbconvert_exporter": "python",
   "pygments_lexer": "ipython3",
   "version": "3.11.4"
  },
  "orig_nbformat": 4,
  "vscode": {
   "interpreter": {
    "hash": "4be3cc95ef389303b1bacc9b081ec69714ef68041dd56ca97795f6f5f5d2991b"
   }
  }
 },
 "nbformat": 4,
 "nbformat_minor": 2
}
